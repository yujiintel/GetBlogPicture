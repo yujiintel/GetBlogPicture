{
 "cells": [
  {
   "cell_type": "code",
   "execution_count": 90,
   "metadata": {
    "collapsed": true
   },
   "outputs": [],
   "source": [
    "# ブログから画像を抽出するやつ\n",
    "import requests # urlを読み込むためrequestsをインポート\n",
    "from bs4 import BeautifulSoup # htmlを読み込むためBeautifulSoupをインポート\n",
    "import os\n",
    "import re\n",
    "import time\n",
    "import numpy as np\n",
    "import urllib\n"
   ]
  },
  {
   "cell_type": "code",
   "execution_count": 91,
   "metadata": {
    "collapsed": true
   },
   "outputs": [],
   "source": [
    "def set_Name_of_the_Menber():\n",
    "\n",
    "    MenberList_kanji = ['石森 虹花','今泉 佑唯', '上村 莉菜','尾関 梨香','織田 奈那', '小池 美波','小林 由依', '齋藤 冬優花','佐藤 詩織', '志田 愛佳','菅井 友香','鈴本 美愉', '長沢 菜々香','長濱 ねる','土生 瑞穂', '原田 葵', '平手 友梨奈', '守谷 茜', '米谷 奈々未', '渡辺 梨加', '渡邉 理佐']\n",
    "    MenberList_hiragana = ['井口 眞緒','潮 紗理菜', '柿崎 芽実','影山 優佳','加藤 史帆', '齊藤 京子','佐々木 久美', '佐々木 美玲','高瀬 愛奈', '高本 彩花','東村 芽依','金村 美玖', '河田 陽菜','小坂 菜緒','富田 鈴花', '丹生 明里', '濱岸 ひより', '松田 好花', '宮田 愛萌', '渡邉 美穂']\n",
    "\n",
    "#     n = 0;\n",
    "#     for i in MenberList:\n",
    "#         print(str(n) +': '+ MenberList[n])\n",
    "#         n += 1\n",
    "        \n",
    "#     n = input('Choose a number \\n')\n",
    "\n",
    "    return MenberList_kanji,MenberList_hiragana\n"
   ]
  },
  {
   "cell_type": "code",
   "execution_count": 92,
   "metadata": {
    "collapsed": true
   },
   "outputs": [],
   "source": [
    "def get_Number_of_LatestBlog():\n",
    "    URL  = 'http://www.keyakizaka46.com/s/k46o/?ima=0000'\n",
    "    soup = BeautifulSoup(requests.get(URL).content,'lxml') # bsでURL内を解析\n",
    "    links = [a.get(\"href\") for a in soup.find_all(\"a\")]\n",
    "#     print(links)\n",
    "\n",
    "    # topページからblogのリンクのみを抽出、1つ目が細心なのでbreak\n",
    "    for i in range(len(links)):\n",
    "        if ('/s/k46o/diary/detail/' in links[i]) == True:\n",
    "            new_blog =links[i]\n",
    "            break\n",
    "\n",
    "    \n",
    "    # ブログ番号の抽出\n",
    "    arr = new_blog.split('/')\n",
    "    new_blog_num = arr[5].split('?')[0]\n",
    "#     print(new_blog)\n",
    "#     print(arr)\n",
    "#     print(new_blog_num)\n",
    "    return int(new_blog_num)"
   ]
  },
  {
   "cell_type": "code",
   "execution_count": 93,
   "metadata": {
    "collapsed": true
   },
   "outputs": [],
   "source": [
    "def get_Number_of_Blog(kanji,hiragana):\n",
    "\n",
    "    MenberList = kanji + hiragana\n",
    "    \n",
    "#　辞書リストでブログ番号とメンバーを紐付けする\n",
    "    list_number_of_the_blogs={}\n",
    "    for i in MenberList:\n",
    "        list_number_of_the_blogs[i] =[]\n",
    "    \n",
    "    latest_blog_num = get_Number_of_LatestBlog()\n",
    "\n",
    "    print('Latest blog number :' + str(latest_blog_num))\n",
    "    url_front = 'http://www.keyakizaka46.com/s/k46o/diary/detail/'\n",
    "    url_back = '?ima=0000&cd=member'\n",
    "\n",
    "    start_blog_num = 10000\n",
    "#     latest_blog_num -= 10;\n",
    "    latest_blog_num = 10030\n",
    "\n",
    "    \n",
    "    n = latest_blog_num - start_blog_num \n",
    "    \n",
    "    for i in range(n):\n",
    "        blog_number = str(i+start_blog_num)\n",
    "    \n",
    "        # ブログのurl の作成する\n",
    "        url_total = url_front + blog_number + url_back\n",
    "        \n",
    "        # URLが有効か確かめる error : 無視する\n",
    "        try:\n",
    "            urllib.request.urlopen(url_total)\n",
    "        except urllib.error.HTTPError as e:\n",
    "#             print(\"This URL Not Found\")\n",
    "#             break\n",
    "\n",
    "        # サーバーの負荷対策\n",
    "         time.sleep(1)\n",
    "         i += 1\n",
    "\n",
    "            \n",
    "        for j in range(len(MenberList)):\n",
    "            if check_Menber_of_this_Blog(MenberList[j],url_total):  # このif文に時間がかかっていそう\n",
    "                list_number_of_the_blogs[MenberList[j]].append(blog_number)\n",
    "                break\n",
    "    \n",
    "        if i%2 ==0:\n",
    "            print('Latest blog number :' + str(blog_number))\n",
    "            make_txt_file(list_number_of_the_blogs,blog_number)\n",
    "    \n",
    "    return list_number_of_the_blogs\n"
   ]
  },
  {
   "cell_type": "code",
   "execution_count": 94,
   "metadata": {
    "collapsed": true
   },
   "outputs": [],
   "source": [
    "def check_Menber_of_this_Blog(name,blog_url):\n",
    "    \n",
    "    soup = BeautifulSoup(requests.get(blog_url).content,'lxml') # bsでURL内を解析\n",
    "    \n",
    "    # titleタグの取得　ページ内にtitleタグは1つだけなので、これで十分\n",
    "    # .string でタグ内の文字列を取得\n",
    "    # splitでtitleから名前のみを抜き出す\n",
    "    title = soup.find(\"title\")\n",
    "    arr = title.string.split('公式ブログ')\n",
    "\n",
    "    blog_author = arr[0]\n",
    "\n",
    "    return blog_author == name\n",
    "    "
   ]
  },
  {
   "cell_type": "code",
   "execution_count": 95,
   "metadata": {
    "collapsed": true
   },
   "outputs": [],
   "source": [
    "def make_txt_file(list,num):\n",
    "    filename = 'list' + str(num) + '.txt'\n",
    "    print(filename)\n",
    "    \n",
    "    f = open(filename, 'w')       # ファイルを開く(該当ファイルがなければ新規作成)\n",
    "    for x in list:                          # 文字列を記載する\n",
    "#         print(x)\n",
    "#         print(list[x])\n",
    "        f.write(str(x) + str(list[x]) + \"\\n\")\n",
    "    \n",
    "    f.close()                                #ファイルを閉じる\n"
   ]
  },
  {
   "cell_type": "code",
   "execution_count": 96,
   "metadata": {
    "scrolled": true
   },
   "outputs": [
    {
     "name": "stdout",
     "output_type": "stream",
     "text": [
      "Latest blog number :18716\n",
      "Latest blog number :10000\n",
      "list10000.txt\n",
      "Latest blog number :10002\n",
      "list10002.txt\n",
      "Latest blog number :10004\n",
      "list10004.txt\n",
      "Latest blog number :10006\n",
      "list10006.txt\n",
      "Latest blog number :10008\n",
      "list10008.txt\n",
      "Latest blog number :10010\n",
      "list10010.txt\n",
      "Latest blog number :10012\n",
      "list10012.txt\n",
      "Latest blog number :10014\n",
      "list10014.txt\n",
      "Latest blog number :10016\n",
      "list10016.txt\n",
      "Latest blog number :10018\n",
      "list10018.txt\n",
      "Latest blog number :10020\n",
      "list10020.txt\n",
      "Latest blog number :10022\n",
      "list10022.txt\n",
      "Latest blog number :10024\n",
      "list10024.txt\n",
      "Latest blog number :10026\n",
      "list10026.txt\n",
      "Latest blog number :10027\n",
      "list10027.txt\n",
      "Latest blog number :10028\n",
      "list10028.txt\n",
      "elapsed_time:621.7174592018127[sec]\n"
     ]
    }
   ],
   "source": [
    "# Main\n",
    "\n",
    "start = time.time()\n",
    "Menber_kanji,Menber_hiragana = set_Name_of_the_Menber()\n",
    "blog_num = get_Number_of_Blog(Menber_kanji,Menber_hiragana)\n",
    "# get_Picture_from_Blog(blog_num)\n",
    "# folder_directory=make_Folder_for_save_Picture(name)\n",
    "\n",
    "elapsed_time = time.time() - start\n",
    "print (\"elapsed_time:{0}\".format(elapsed_time) + \"[sec]\")\n"
   ]
  },
  {
   "cell_type": "code",
   "execution_count": null,
   "metadata": {
    "collapsed": true
   },
   "outputs": [],
   "source": []
  },
  {
   "cell_type": "code",
   "execution_count": null,
   "metadata": {
    "collapsed": true
   },
   "outputs": [],
   "source": []
  }
 ],
 "metadata": {
  "kernelspec": {
   "display_name": "Python 3",
   "language": "python",
   "name": "python3"
  },
  "language_info": {
   "codemirror_mode": {
    "name": "ipython",
    "version": 3
   },
   "file_extension": ".py",
   "mimetype": "text/x-python",
   "name": "python",
   "nbconvert_exporter": "python",
   "pygments_lexer": "ipython3",
   "version": "3.6.3"
  }
 },
 "nbformat": 4,
 "nbformat_minor": 2
}
