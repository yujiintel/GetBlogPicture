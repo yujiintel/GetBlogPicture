{
 "cells": [
  {
   "cell_type": "code",
   "execution_count": 518,
   "metadata": {
    "collapsed": true
   },
   "outputs": [],
   "source": [
    "# ブログから画像を抽出するやつ\n",
    "import requests # urlを読み込むためrequestsをインポート\n",
    "from bs4 import BeautifulSoup # htmlを読み込むためBeautifulSoupをインポート\n",
    "import os\n",
    "import re\n",
    "import time\n",
    "import numpy as np\n",
    "# from requests_oauthlib import OAuth1Session\n",
    "# import json\n",
    "# from datetime import datetime\n",
    "# import urllib.request\n",
    "# import re\n",
    "# import random\n",
    "# import time\n",
    "# import os"
   ]
  },
  {
   "cell_type": "code",
   "execution_count": 519,
   "metadata": {},
   "outputs": [],
   "source": [
    "# ブログから画像を抽出するやつ\n",
    "import requests # urlを読み込むためrequestsをインポート\n",
    "from bs4 import BeautifulSoup # htmlを読み込むためBeautifulSoupをインポート\n",
    "import os\n",
    "\n",
    "def get_Picture_from_Blog():\n",
    "    URL = 'http://www.keyakizaka46.com/s/k46o/diary/detail/14762?ima=0000&cd=member' # URL入力\n",
    "    images = [] # 画像リストの配列\n",
    "    pic = []\n",
    "    soup = BeautifulSoup(requests.get(URL).content,'lxml') # bsでURL内を解析\n"
   ]
  },
  {
   "cell_type": "code",
   "execution_count": 632,
   "metadata": {
    "scrolled": true
   },
   "outputs": [
    {
     "name": "stdout",
     "output_type": "stream",
     "text": [
      "18716\n",
      "390\n",
      "{'石森 虹花': [], '今泉 佑唯': [], '上村 莉菜': [], '尾関 梨香': [], '織田 奈那': [], '小池 美波': [], '小林 由依': [], '齋藤 冬優花': [], '佐藤 詩織': [], '志田 愛佳': ['390'], '菅井 友香': [], '鈴本 美愉': [], '長沢 菜々香': [], '長濱 ねる': [], '土生 瑞穂': [], '原田 葵': [], '平手 友梨奈': [], '守谷 茜': [], '米谷 奈々未': [], '渡辺 梨加': [], '渡邉 理佐': []}\n",
      "list0.txt\n",
      "{'石森 虹花': [], '今泉 佑唯': [], '上村 莉菜': [], '尾関 梨香': [], '織田 奈那': [], '小池 美波': [], '小林 由依': [], '齋藤 冬優花': [], '佐藤 詩織': [], '志田 愛佳': ['390'], '菅井 友香': [], '鈴本 美愉': ['391'], '長沢 菜々香': [], '長濱 ねる': [], '土生 瑞穂': [], '原田 葵': [], '平手 友梨奈': [], '守谷 茜': [], '米谷 奈々未': [], '渡辺 梨加': [], '渡邉 理佐': []}\n",
      "list1.txt\n",
      "{'石森 虹花': ['392'], '今泉 佑唯': [], '上村 莉菜': [], '尾関 梨香': [], '織田 奈那': [], '小池 美波': [], '小林 由依': [], '齋藤 冬優花': [], '佐藤 詩織': [], '志田 愛佳': ['390'], '菅井 友香': [], '鈴本 美愉': ['391'], '長沢 菜々香': [], '長濱 ねる': [], '土生 瑞穂': [], '原田 葵': [], '平手 友梨奈': [], '守谷 茜': [], '米谷 奈々未': [], '渡辺 梨加': [], '渡邉 理佐': []}\n",
      "list2.txt\n",
      "{'石森 虹花': ['392'], '今泉 佑唯': [], '上村 莉菜': [], '尾関 梨香': [], '織田 奈那': [], '小池 美波': [], '小林 由依': [], '齋藤 冬優花': [], '佐藤 詩織': ['393'], '志田 愛佳': ['390'], '菅井 友香': [], '鈴本 美愉': ['391'], '長沢 菜々香': [], '長濱 ねる': [], '土生 瑞穂': [], '原田 葵': [], '平手 友梨奈': [], '守谷 茜': [], '米谷 奈々未': [], '渡辺 梨加': [], '渡邉 理佐': []}\n",
      "list3.txt\n",
      "{'石森 虹花': ['392'], '今泉 佑唯': [], '上村 莉菜': [], '尾関 梨香': [], '織田 奈那': [], '小池 美波': [], '小林 由依': [], '齋藤 冬優花': [], '佐藤 詩織': ['393'], '志田 愛佳': ['390'], '菅井 友香': [], '鈴本 美愉': ['391'], '長沢 菜々香': [], '長濱 ねる': [], '土生 瑞穂': [], '原田 葵': [], '平手 友梨奈': [], '守谷 茜': [], '米谷 奈々未': [], '渡辺 梨加': [], '渡邉 理佐': ['394']}\n",
      "list4.txt\n",
      "{'石森 虹花': ['392'], '今泉 佑唯': [], '上村 莉菜': [], '尾関 梨香': [], '織田 奈那': [], '小池 美波': [], '小林 由依': ['395'], '齋藤 冬優花': [], '佐藤 詩織': ['393'], '志田 愛佳': ['390'], '菅井 友香': [], '鈴本 美愉': ['391'], '長沢 菜々香': [], '長濱 ねる': [], '土生 瑞穂': [], '原田 葵': [], '平手 友梨奈': [], '守谷 茜': [], '米谷 奈々未': [], '渡辺 梨加': [], '渡邉 理佐': ['394']}\n",
      "list5.txt\n",
      "{'石森 虹花': ['392', '396'], '今泉 佑唯': [], '上村 莉菜': [], '尾関 梨香': [], '織田 奈那': [], '小池 美波': [], '小林 由依': ['395'], '齋藤 冬優花': [], '佐藤 詩織': ['393'], '志田 愛佳': ['390'], '菅井 友香': [], '鈴本 美愉': ['391'], '長沢 菜々香': [], '長濱 ねる': [], '土生 瑞穂': [], '原田 葵': [], '平手 友梨奈': [], '守谷 茜': [], '米谷 奈々未': [], '渡辺 梨加': [], '渡邉 理佐': ['394']}\n",
      "list6.txt\n",
      "{'石森 虹花': ['392', '396'], '今泉 佑唯': [], '上村 莉菜': [], '尾関 梨香': [], '織田 奈那': [], '小池 美波': [], '小林 由依': ['395'], '齋藤 冬優花': [], '佐藤 詩織': ['393'], '志田 愛佳': ['390'], '菅井 友香': [], '鈴本 美愉': ['391'], '長沢 菜々香': [], '長濱 ねる': [], '土生 瑞穂': [], '原田 葵': [], '平手 友梨奈': [], '守谷 茜': [], '米谷 奈々未': [], '渡辺 梨加': [], '渡邉 理佐': ['394']}\n",
      "list7.txt\n",
      "{'石森 虹花': ['392', '396'], '今泉 佑唯': [], '上村 莉菜': [], '尾関 梨香': [], '織田 奈那': [], '小池 美波': [], '小林 由依': ['395'], '齋藤 冬優花': [], '佐藤 詩織': ['393'], '志田 愛佳': ['390'], '菅井 友香': ['398'], '鈴本 美愉': ['391'], '長沢 菜々香': [], '長濱 ねる': [], '土生 瑞穂': [], '原田 葵': [], '平手 友梨奈': [], '守谷 茜': [], '米谷 奈々未': [], '渡辺 梨加': [], '渡邉 理佐': ['394']}\n",
      "list8.txt\n",
      "{'石森 虹花': ['392', '396'], '今泉 佑唯': [], '上村 莉菜': [], '尾関 梨香': [], '織田 奈那': [], '小池 美波': [], '小林 由依': ['395'], '齋藤 冬優花': ['399'], '佐藤 詩織': ['393'], '志田 愛佳': ['390'], '菅井 友香': ['398'], '鈴本 美愉': ['391'], '長沢 菜々香': [], '長濱 ねる': [], '土生 瑞穂': [], '原田 葵': [], '平手 友梨奈': [], '守谷 茜': [], '米谷 奈々未': [], '渡辺 梨加': [], '渡邉 理佐': ['394']}\n",
      "list9.txt\n",
      "elapsed_time:55.81626772880554[sec]\n"
     ]
    },
    {
     "ename": "TypeError",
     "evalue": "make_txt_file() missing 1 required positional argument: 'num'",
     "output_type": "error",
     "traceback": [
      "\u001b[0;31m---------------------------------------------------------------------------\u001b[0m",
      "\u001b[0;31mTypeError\u001b[0m                                 Traceback (most recent call last)",
      "\u001b[0;32m<ipython-input-632-5890cf5b1128>\u001b[0m in \u001b[0;36m<module>\u001b[0;34m()\u001b[0m\n\u001b[1;32m      8\u001b[0m \u001b[0mprint\u001b[0m \u001b[0;34m(\u001b[0m\u001b[0;34m\"elapsed_time:{0}\"\u001b[0m\u001b[0;34m.\u001b[0m\u001b[0mformat\u001b[0m\u001b[0;34m(\u001b[0m\u001b[0melapsed_time\u001b[0m\u001b[0;34m)\u001b[0m \u001b[0;34m+\u001b[0m \u001b[0;34m\"[sec]\"\u001b[0m\u001b[0;34m)\u001b[0m\u001b[0;34m\u001b[0m\u001b[0m\n\u001b[1;32m      9\u001b[0m \u001b[0;34m\u001b[0m\u001b[0m\n\u001b[0;32m---> 10\u001b[0;31m \u001b[0mmake_txt_file\u001b[0m\u001b[0;34m(\u001b[0m\u001b[0mblog_num\u001b[0m\u001b[0;34m)\u001b[0m\u001b[0;34m\u001b[0m\u001b[0m\n\u001b[0m",
      "\u001b[0;31mTypeError\u001b[0m: make_txt_file() missing 1 required positional argument: 'num'"
     ]
    }
   ],
   "source": [
    "start = time.time()\n",
    "MenberList = set_Name_of_the_Menber()\n",
    "blog_num = get_Number_of_Blog(MenberList)\n",
    "# get_Picture_from_Blog(blog_num)\n",
    "# folder_directory=make_Folder_for_save_Picture(name)\n",
    "\n",
    "elapsed_time = time.time() - start\n",
    "print (\"elapsed_time:{0}\".format(elapsed_time) + \"[sec]\")\n",
    "\n",
    "make_txt_file(blog_num)\n"
   ]
  },
  {
   "cell_type": "code",
   "execution_count": 631,
   "metadata": {},
   "outputs": [],
   "source": [
    "def get_Number_of_Blog(MenberList):\n",
    "\n",
    "#　辞書リストでブログ番号とメンバーを紐付けする\n",
    "    list_number_of_the_blogs={}\n",
    "    for i in MenberList:\n",
    "        list_number_of_the_blogs[i] =[]\n",
    "    \n",
    "    latest_blog_num = get_Number_of_LatestBlog()\n",
    "\n",
    "    print(latest_blog_num)\n",
    "    url_front = 'http://www.keyakizaka46.com/s/k46o/diary/detail/'\n",
    "    url_back = '?ima=0000&cd=member'\n",
    "\n",
    "    start_blog_num = 390;\n",
    "#     latest_blog_num -= 10;\n",
    "    latest_blog_num = 400\n",
    "\n",
    "    n = latest_blog_num - start_blog_num \n",
    "    \n",
    "    for i in range(n):\n",
    "        blog_number = str(i+start_blog_num)\n",
    "    \n",
    "        # url の作成する\n",
    "        url_total = url_front + blog_number + url_back\n",
    "        \n",
    "        if i%100 ==0:\n",
    "            print(blog_number)\n",
    "    \n",
    "        # URLが有効か確かめる\n",
    "        # error 直後にループを強制終了させる\n",
    "        try:\n",
    "            urllib.request.urlopen(url_total)\n",
    "        except urllib.error.HTTPError as e:\n",
    "#             print(\"This URL Not Found\")\n",
    "#             break\n",
    "\n",
    "         time.sleep(1)\n",
    "         i += 1\n",
    "\n",
    "        for j in range(len(MenberList)):\n",
    "            if check_Menber_of_this_Blog(MenberList[j],url_total):\n",
    "                list_number_of_the_blogs[MenberList[j]].append(blog_number)\n",
    "                break\n",
    "    \n",
    "#     print(list_number_of_the_blogs)\n",
    "\n",
    "        make_txt_file(list_number_of_the_blogs,i)\n",
    "    \n",
    "    return list_number_of_the_blogs\n"
   ]
  },
  {
   "cell_type": "code",
   "execution_count": 596,
   "metadata": {},
   "outputs": [],
   "source": [
    "def set_Name_of_the_Menber():\n",
    "#     MenberList = ['今泉 佑唯', '小林 由依', '志田 愛佳']\n",
    "    MenberList = ['石森 虹花','今泉 佑唯', '上村 莉菜','尾関 梨香','織田 奈那', '小池 美波','小林 由依', '齋藤 冬優花','佐藤 詩織', '志田 愛佳','菅井 友香','鈴本 美愉', '長沢 菜々香','長濱 ねる','土生 瑞穂', '原田 葵', '平手 友梨奈', '守谷 茜', '米谷 奈々未', '渡辺 梨加', '渡邉 理佐']\n",
    "\n",
    "#     n = 0;\n",
    "#     for i in MenberList:\n",
    "#         print(str(n) +': '+ MenberList[n])\n",
    "#         n += 1\n",
    "        \n",
    "#     n = input('Choose a number \\n')\n",
    "\n",
    "    return MenberList\n"
   ]
  },
  {
   "cell_type": "code",
   "execution_count": 607,
   "metadata": {},
   "outputs": [],
   "source": [
    "def check_Menber_of_this_Blog(name,blog_url):\n",
    "    \n",
    "    soup = BeautifulSoup(requests.get(blog_url).content,'lxml') # bsでURL内を解析\n",
    "    \n",
    "    # titleタグの取得　ページ内にtitleタグは1つだけなので、これで十分\n",
    "    # .string でタグ内の文字列を取得\n",
    "    # splitでtitleから名前のみを抜き出す\n",
    "    title = soup.find(\"title\")\n",
    "#     print(title.string)\n",
    "    arr = title.string.split('公式ブログ')\n",
    "\n",
    "    blog_author = arr[0]\n",
    "\n",
    "    return blog_author == name\n",
    "    "
   ]
  },
  {
   "cell_type": "markdown",
   "metadata": {},
   "source": []
  },
  {
   "cell_type": "code",
   "execution_count": 614,
   "metadata": {},
   "outputs": [],
   "source": [
    "def get_Number_of_LatestBlog():\n",
    "    URL  = 'http://www.keyakizaka46.com/s/k46o/?ima=0000'\n",
    "    soup = BeautifulSoup(requests.get(URL).content,'lxml') # bsでURL内を解析\n",
    "    links = [a.get(\"href\") for a in soup.find_all(\"a\")]\n",
    "#     print(links)\n",
    "\n",
    "    # topページからblogのリンクのみを抽出、1つ目が細心なのでbreak\n",
    "    for i in range(len(links)):\n",
    "        if ('/s/k46o/diary/detail/' in links[i]) == True:\n",
    "            new_blog =links[i]\n",
    "            break\n",
    "\n",
    "    \n",
    "    # ブログ番号の抽出\n",
    "    arr = new_blog.split('/')\n",
    "    new_blog_num = arr[5].split('?')[0]\n",
    "#     print(new_blog)\n",
    "#     print(arr)\n",
    "#     print(new_blog_num)\n",
    "    return int(new_blog_num)"
   ]
  },
  {
   "cell_type": "code",
   "execution_count": 273,
   "metadata": {
    "scrolled": true
   },
   "outputs": [
    {
     "ename": "SyntaxError",
     "evalue": "EOL while scanning string literal (<ipython-input-273-ed7612234e59>, line 1)",
     "output_type": "error",
     "traceback": [
      "\u001b[0;36m  File \u001b[0;32m\"<ipython-input-273-ed7612234e59>\"\u001b[0;36m, line \u001b[0;32m1\u001b[0m\n\u001b[0;31m    ['63', '77', '93', '98', '121', '148', '155', '158', '177', '194', '206', '233', '250', '263', '279', '298', '316', '336', '349', '372', '382', '404', '409', '436', '450', '468', '477', '488', '507', '529', '543', '562', '572', '594', '602', '621', '644', '661', '678', '701', '714', '727', '754', '770', '781', '798', '816', '839', '851', '869', '883', '894', '901', '917', '940', '952', '967', '981']'\"\u001b[0m\n\u001b[0m                                                                                                                                                                                                                                                                                                                                                                                                                        ^\u001b[0m\n\u001b[0;31mSyntaxError\u001b[0m\u001b[0;31m:\u001b[0m EOL while scanning string literal\n"
     ]
    }
   ],
   "source": [
    "['63', '77', '93', '98', '121', '148', '155', '158', '177', '194', '206', '233', '250', '263', '279', '298', '316', '336', '349', '372', '382', '404', '409', '436', '450', '468', '477', '488', '507', '529', '543', '562', '572', '594', '602', '621', '644', '661', '678', '701', '714', '727', '754', '770', '781', '798', '816', '839', '851', '869', '883', '894', '901', '917', '940', '952', '967', '981']'\""
   ]
  },
  {
   "cell_type": "code",
   "execution_count": 627,
   "metadata": {},
   "outputs": [],
   "source": [
    "def make_txt_file(list,num):\n",
    "    print(list)\n",
    "    filename = 'list' + str(num) + '.txt'\n",
    "    print(filename)\n",
    "    f = open(filename, 'w')       # ファイルを開く(該当ファイルがなければ新規作成)\n",
    "    for x in list:                          # 文字列を記載する\n",
    "#         print(x)\n",
    "#         print(list[x])\n",
    "        f.write(str(x) + str(list[x]) + \"\\n\")\n",
    "    f.close()                                #ファイルを閉じる\n"
   ]
  },
  {
   "cell_type": "code",
   "execution_count": 494,
   "metadata": {
    "scrolled": true
   },
   "outputs": [
    {
     "name": "stdout",
     "output_type": "stream",
     "text": [
      "{'今泉 佑唯': [0], '小林 由依': [0], '志田 愛佳': [0]}\n",
      "{'今泉 佑唯': [0, 0], '小林 由依': [0, 1], '志田 愛佳': [0, 2]}\n",
      "[0, 0]\n"
     ]
    }
   ],
   "source": [
    "MenberList = ['今泉 佑唯', '小林 由依', '志田 愛佳']\n",
    "test={}\n",
    "for i in MenberList:\n",
    "    test[i] =[0]\n",
    "print(test)\n",
    "\n",
    "for j in range(len(MenberList)):\n",
    "    test[MenberList[j]].append(j)\n",
    "\n",
    "print(test)\n",
    "print(test['今泉 佑唯'])"
   ]
  },
  {
   "cell_type": "code",
   "execution_count": 621,
   "metadata": {},
   "outputs": [
    {
     "data": {
      "text/plain": [
       "array([[ 0.],\n",
       "       [ 0.],\n",
       "       [ 0.],\n",
       "       [ 0.],\n",
       "       [ 0.],\n",
       "       [ 0.],\n",
       "       [ 0.],\n",
       "       [ 0.],\n",
       "       [ 0.],\n",
       "       [ 0.],\n",
       "       [ 0.],\n",
       "       [ 0.],\n",
       "       [ 0.],\n",
       "       [ 0.],\n",
       "       [ 0.],\n",
       "       [ 0.],\n",
       "       [ 0.],\n",
       "       [ 0.],\n",
       "       [ 0.],\n",
       "       [ 0.],\n",
       "       [ 0.]])"
      ]
     },
     "execution_count": 621,
     "metadata": {},
     "output_type": "execute_result"
    }
   ],
   "source": [
    "list_number_of_the_blogs"
   ]
  },
  {
   "cell_type": "code",
   "execution_count": null,
   "metadata": {
    "collapsed": true
   },
   "outputs": [],
   "source": []
  }
 ],
 "metadata": {
  "kernelspec": {
   "display_name": "Python 3",
   "language": "python",
   "name": "python3"
  },
  "language_info": {
   "codemirror_mode": {
    "name": "ipython",
    "version": 3
   },
   "file_extension": ".py",
   "mimetype": "text/x-python",
   "name": "python",
   "nbconvert_exporter": "python",
   "pygments_lexer": "ipython3",
   "version": "3.6.3"
  }
 },
 "nbformat": 4,
 "nbformat_minor": 2
}
