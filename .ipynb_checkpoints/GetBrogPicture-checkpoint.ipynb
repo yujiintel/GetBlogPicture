{
 "cells": [
  {
   "cell_type": "code",
   "execution_count": 241,
   "metadata": {
    "collapsed": true
   },
   "outputs": [],
   "source": [
    "# ブログから画像を抽出するやつ\n",
    "import requests # urlを読み込むためrequestsをインポート\n",
    "from bs4 import BeautifulSoup # htmlを読み込むためBeautifulSoupをインポート\n",
    "import os\n",
    "import re\n",
    "import time\n",
    "import numpy as np\n",
    "import urllib\n",
    "import datetime\n"
   ]
  },
  {
   "cell_type": "code",
   "execution_count": 242,
   "metadata": {
    "collapsed": true
   },
   "outputs": [],
   "source": [
    "def set_Name_of_the_Menber():\n",
    "\n",
    "    MenberList_kanji = ['石森 虹花','今泉 佑唯', '上村 莉菜','尾関 梨香','織田 奈那', '小池 美波','小林 由依', '齋藤 冬優花','佐藤 詩織', '志田 愛佳','菅井 友香','鈴本 美愉', '長沢 菜々香','長濱 ねる','土生 瑞穂', '原田 葵', '平手 友梨奈', '守屋 茜', '米谷 奈々未', '渡辺 梨加', '渡邉 理佐']\n",
    "    MenberList_hiragana = ['井口 眞緒','潮 紗理菜', '柿崎 芽実','影山 優佳','加藤 史帆', '齊藤 京子','佐々木 久美', '佐々木 美玲','高瀬 愛奈', '高本 彩花','東村 芽依','金村 美玖', '河田 陽菜','小坂 菜緒','富田 鈴花', '丹生 明里', '濱岸 ひより', '松田 好花', '宮田 愛萌', '渡邉 美穂']\n",
    "\n",
    "    MenberList = Menber_kanji + Menber_hiragana\n",
    "    \n",
    "    n = 0;\n",
    "    for i in MenberList:\n",
    "        print(str(n) +': '+ MenberList[n])\n",
    "        n += 1\n",
    "        \n",
    "    n = input('Choose a number \\n')\n",
    "    print(MenberList[int(n)])\n",
    "\n",
    "    return MenberList_kanji,MenberList_hiragana,str(MenberList[int(n)])\n"
   ]
  },
  {
   "cell_type": "code",
   "execution_count": 243,
   "metadata": {
    "collapsed": true
   },
   "outputs": [],
   "source": [
    "def get_Number_of_LatestBlog():\n",
    "    URL  = 'http://www.keyakizaka46.com/s/k46o/?ima=0000'\n",
    "    soup = BeautifulSoup(requests.get(URL).content,'lxml') # bsでURL内を解析\n",
    "    links = [a.get(\"href\") for a in soup.find_all(\"a\")]\n",
    "#     print(links)\n",
    "\n",
    "    # topページからblogのリンクのみを抽出、1つ目が細心なのでbreak\n",
    "    for i in range(len(links)):\n",
    "        if ('/s/k46o/diary/detail/' in links[i]) == True:\n",
    "            new_blog =links[i]\n",
    "            break\n",
    "\n",
    "    \n",
    "    # ブログ番号の抽出\n",
    "    arr = new_blog.split('/')\n",
    "    new_blog_num = arr[5].split('?')[0]\n",
    "#     print(new_blog)\n",
    "#     print(arr)\n",
    "#     print(new_blog_num)\n",
    "    return int(new_blog_num)"
   ]
  },
  {
   "cell_type": "code",
   "execution_count": 244,
   "metadata": {
    "collapsed": true
   },
   "outputs": [],
   "source": [
    "def get_Number_of_Blog(kanji,hiragana):\n",
    "\n",
    "    MenberList = kanji + hiragana\n",
    "    \n",
    "#　辞書リストでブログ番号とメンバーを紐付けする\n",
    "    list_number_of_the_blogs={}\n",
    "    for i in MenberList:\n",
    "        list_number_of_the_blogs[i] =[]\n",
    "    \n",
    "    latest_blog_num = get_Number_of_LatestBlog()\n",
    "\n",
    "    print('Latest blog number :' + str(latest_blog_num))\n",
    "    url_front = 'http://www.keyakizaka46.com/s/k46o/diary/detail/'\n",
    "    url_back = '?ima=0000&cd=member'\n",
    "\n",
    "    start_blog_num = 1\n",
    "    latest_blog_num -= 1;\n",
    "#     latest_blog_num = 10030\n",
    "\n",
    "    \n",
    "    n = latest_blog_num - start_blog_num \n",
    "    \n",
    "    for i in range(n):\n",
    "        blog_number = str(i+start_blog_num)\n",
    "    \n",
    "        # ブログのurl の作成する\n",
    "        url_total = url_front + blog_number + url_back\n",
    "        \n",
    "        # URLが有効か確かめる error : 無視する\n",
    "        try:\n",
    "            urllib.request.urlopen(url_total)\n",
    "        except urllib.error.HTTPError as e:\n",
    "#             print(\"This URL Not Found\")\n",
    "#             break\n",
    "\n",
    "        # サーバーの負荷対策\n",
    "         time.sleep(1)\n",
    "         i += 1\n",
    "\n",
    "        soup = BeautifulSoup(requests.get(url_total).content,'lxml') # bsでURL内を解析\n",
    "        title = soup.find(\"title\")\n",
    "        arr = title.string.split('公式ブログ')\n",
    "\n",
    "        blog_author = arr[0]\n",
    "\n",
    "#         return blog_author == name            \n",
    "        \n",
    "            \n",
    "        for j in range(len(MenberList)):\n",
    "            if MenberList[j] == blog_author:  # このif文に時間がかかっていそう\n",
    "                list_number_of_the_blogs[MenberList[j]].append(blog_number)\n",
    "                break\n",
    "    \n",
    "        if i%1000 ==0:\n",
    "            print('Latest blog number :' + str(blog_number))\n",
    "            make_txt_file(list_number_of_the_blogs,blog_number)\n",
    "    \n",
    "    return list_number_of_the_blogs,latest_blog_num\n"
   ]
  },
  {
   "cell_type": "code",
   "execution_count": 245,
   "metadata": {
    "collapsed": true
   },
   "outputs": [],
   "source": [
    "def check_Menber_of_this_Blog(name,blog_url):\n",
    "    \n",
    "    soup = BeautifulSoup(requests.get(blog_url).content,'lxml') # bsでURL内を解析\n",
    "    \n",
    "    # titleタグの取得　ページ内にtitleタグは1つだけなので、これで十分\n",
    "    # .string でタグ内の文字列を取得\n",
    "    # splitでtitleから名前のみを抜き出す\n",
    "    title = soup.find(\"title\")\n",
    "    arr = title.string.split('公式ブログ')\n",
    "\n",
    "    blog_author = arr[0]\n",
    "\n",
    "    return blog_author == name\n",
    "    "
   ]
  },
  {
   "cell_type": "code",
   "execution_count": 246,
   "metadata": {
    "collapsed": true
   },
   "outputs": [],
   "source": [
    "def make_txt_file(list,num):\n",
    "    filename = 'list' + str(num) + '.txt'\n",
    "    print(filename)\n",
    "    \n",
    "    f = open(filename, 'w')       # ファイルを開く(該当ファイルがなければ新規作成)\n",
    "    for x in list:                          # 文字列を記載する\n",
    "#         print(x)\n",
    "#         print(list[x])\n",
    "        f.write(str(x) + str(list[x]) + \"\\n\")\n",
    "    \n",
    "    f.close()                                #ファイルを閉じる\n"
   ]
  },
  {
   "cell_type": "code",
   "execution_count": 247,
   "metadata": {
    "collapsed": true
   },
   "outputs": [],
   "source": [
    "def make_folder_for_save(Menber):\n",
    "    path = os.getcwd()\n",
    "    day = datetime.date.today()#今日の日付\n",
    "    time = datetime.datetime.today()#時間まで\n",
    "    os.mkdir(str(Menber) + str(time))\n",
    "    \n",
    "    return path\n",
    "    "
   ]
  },
  {
   "cell_type": "code",
   "execution_count": 285,
   "metadata": {
    "collapsed": true
   },
   "outputs": [],
   "source": [
    "# ブログから画像を抽出するやつ\n",
    "def GetPicture(Blog_Number_List,Menber):\n",
    "    images = []\n",
    "    pic = []\n",
    "    path = make_folder_for_save(Menber)\n",
    "    \n",
    "    _path = os.getcwd()\n",
    "    path = _path + '/'  + str(Menber)\n",
    "    os.mkdir(str(Menber))\n",
    "\n",
    "    url_front = 'http://www.keyakizaka46.com/s/k46o/diary/detail/'\n",
    "    url_back = '?ima=0000&cd=member'\n",
    "\n",
    "    for n in range(len(Blog_Number_List)):\n",
    "            blog_num = Blog_Number_List[n]\n",
    "    \n",
    "    \n",
    "    for i in blog_num:\n",
    "            \n",
    "        url_total = url_front + blog_num + url_back\n",
    "\n",
    "        soup = BeautifulSoup(requests.get(url_total).content,'lxml') # bsでURL内を解析\n",
    "        \n",
    "        for link in soup.find_all(\"img\"): # imgタグを取得しlinkに格納\n",
    "            if link.get(\"src\").endswith(\".jpg\"): # imgタグ内の.jpgであるsrcタグを取得\n",
    "                images.append(link.get(\"src\")) # imagesリストに格納\n",
    "            elif link.get(\"src\").endswith(\".png\"): # imgタグ内の.pngであるsrcタグを取得\n",
    "                images.append(link.get(\"src\")) # imagesリストに格納\n",
    "        \n",
    "        # １ブログページに元からある画像は５６個\n",
    "        #　１番目は欅ロゴマークなので、２番目以降にブログ画像が保存される\n",
    "        # ブログ画像の数は、len(images)-56　個\n",
    "        num = len(images) -56\n",
    "\n",
    "        # ブログ画像のみの配列を作り直す\n",
    "        for i in range(num):\n",
    "            pic.append(images[i+1])\n",
    "\n",
    "    # 画像を保存する際にリネームする\n",
    "    i = 1\n",
    "    for target in pic: # picからtargetに入れる\n",
    "        re = requests.get(target)\n",
    "        print(target)\n",
    "        with open(str(path) + '/' + target.split('/')[-1] , 'wb') as f: # imgフォルダに格納\n",
    "            f.write(re.content) # .contentにて画像データとして書き込む\n",
    "            os.rename(target.split('/')[-1] ,str(Menber)+'_'+str(i)+'.png' ) \n",
    "            i = i +1\n",
    "\n",
    "    for target in pic: # picからtargetに入れる\n",
    "        re = requests.get(target)\n",
    "        with open('/Users/nagatomo/Desktop/src/keyaki/keyakiDB/brog_images/' + target.split('/')[-1], 'wb') as f: # imgフォルダに格納\n",
    "            f.write(re.content) # .contentにて画像データとして書き込む\n",
    "            os.rename(target.split('/')[-1] ,'ozeki_'+aa+'_'+str(i)+'.png' ) \n",
    "            i = i +1\n",
    " "
   ]
  },
  {
   "cell_type": "code",
   "execution_count": 286,
   "metadata": {
    "scrolled": true
   },
   "outputs": [
    {
     "name": "stdout",
     "output_type": "stream",
     "text": [
      "/Users/nagatomo/Desktop/src/keyaki/GetBrogPicture/今泉 佑唯\n",
      "http://cdn.keyakizaka46.com/images/14/336/978bed423195be346fb180a71cc22/400_320_102400.jpg\n"
     ]
    },
    {
     "ename": "FileNotFoundError",
     "evalue": "[Errno 2] No such file or directory: '400_320_102400.jpg' -> '今泉 佑唯_1.png'",
     "output_type": "error",
     "traceback": [
      "\u001b[0;31m---------------------------------------------------------------------------\u001b[0m",
      "\u001b[0;31mFileNotFoundError\u001b[0m                         Traceback (most recent call last)",
      "\u001b[0;32m<ipython-input-286-fe6015c68124>\u001b[0m in \u001b[0;36m<module>\u001b[0;34m()\u001b[0m\n\u001b[1;32m      2\u001b[0m \u001b[0mMenber\u001b[0m \u001b[0;34m=\u001b[0m \u001b[0;34m(\u001b[0m\u001b[0;34m'今泉 佑唯'\u001b[0m\u001b[0;34m)\u001b[0m\u001b[0;34m\u001b[0m\u001b[0m\n\u001b[1;32m      3\u001b[0m \u001b[0mmake_folder_for_save\u001b[0m\u001b[0;34m(\u001b[0m\u001b[0mMenber\u001b[0m\u001b[0;34m)\u001b[0m\u001b[0;34m\u001b[0m\u001b[0m\n\u001b[0;32m----> 4\u001b[0;31m \u001b[0mGetPicture\u001b[0m\u001b[0;34m(\u001b[0m\u001b[0mblog_list\u001b[0m\u001b[0;34m[\u001b[0m\u001b[0mMenber_name\u001b[0m\u001b[0;34m]\u001b[0m\u001b[0;34m,\u001b[0m\u001b[0mMenber_name\u001b[0m\u001b[0;34m)\u001b[0m\u001b[0;34m\u001b[0m\u001b[0m\n\u001b[0m",
      "\u001b[0;32m<ipython-input-285-dd818922bb57>\u001b[0m in \u001b[0;36mGetPicture\u001b[0;34m(Blog_Number_List, Menber)\u001b[0m\n\u001b[1;32m     44\u001b[0m         \u001b[0;32mwith\u001b[0m \u001b[0mopen\u001b[0m\u001b[0;34m(\u001b[0m\u001b[0mstr\u001b[0m\u001b[0;34m(\u001b[0m\u001b[0mpath\u001b[0m\u001b[0;34m)\u001b[0m \u001b[0;34m+\u001b[0m \u001b[0;34m'/'\u001b[0m \u001b[0;34m+\u001b[0m \u001b[0mtarget\u001b[0m\u001b[0;34m.\u001b[0m\u001b[0msplit\u001b[0m\u001b[0;34m(\u001b[0m\u001b[0;34m'/'\u001b[0m\u001b[0;34m)\u001b[0m\u001b[0;34m[\u001b[0m\u001b[0;34m-\u001b[0m\u001b[0;36m1\u001b[0m\u001b[0;34m]\u001b[0m \u001b[0;34m,\u001b[0m \u001b[0;34m'wb'\u001b[0m\u001b[0;34m)\u001b[0m \u001b[0;32mas\u001b[0m \u001b[0mf\u001b[0m\u001b[0;34m:\u001b[0m \u001b[0;31m# imgフォルダに格納\u001b[0m\u001b[0;34m\u001b[0m\u001b[0m\n\u001b[1;32m     45\u001b[0m             \u001b[0mf\u001b[0m\u001b[0;34m.\u001b[0m\u001b[0mwrite\u001b[0m\u001b[0;34m(\u001b[0m\u001b[0mre\u001b[0m\u001b[0;34m.\u001b[0m\u001b[0mcontent\u001b[0m\u001b[0;34m)\u001b[0m \u001b[0;31m# .contentにて画像データとして書き込む\u001b[0m\u001b[0;34m\u001b[0m\u001b[0m\n\u001b[0;32m---> 46\u001b[0;31m             \u001b[0mos\u001b[0m\u001b[0;34m.\u001b[0m\u001b[0mrename\u001b[0m\u001b[0;34m(\u001b[0m\u001b[0mtarget\u001b[0m\u001b[0;34m.\u001b[0m\u001b[0msplit\u001b[0m\u001b[0;34m(\u001b[0m\u001b[0;34m'/'\u001b[0m\u001b[0;34m)\u001b[0m\u001b[0;34m[\u001b[0m\u001b[0;34m-\u001b[0m\u001b[0;36m1\u001b[0m\u001b[0;34m]\u001b[0m \u001b[0;34m,\u001b[0m\u001b[0mstr\u001b[0m\u001b[0;34m(\u001b[0m\u001b[0mMenber\u001b[0m\u001b[0;34m)\u001b[0m\u001b[0;34m+\u001b[0m\u001b[0;34m'_'\u001b[0m\u001b[0;34m+\u001b[0m\u001b[0mstr\u001b[0m\u001b[0;34m(\u001b[0m\u001b[0mi\u001b[0m\u001b[0;34m)\u001b[0m\u001b[0;34m+\u001b[0m\u001b[0;34m'.png'\u001b[0m \u001b[0;34m)\u001b[0m\u001b[0;34m\u001b[0m\u001b[0m\n\u001b[0m\u001b[1;32m     47\u001b[0m             \u001b[0mi\u001b[0m \u001b[0;34m=\u001b[0m \u001b[0mi\u001b[0m \u001b[0;34m+\u001b[0m\u001b[0;36m1\u001b[0m\u001b[0;34m\u001b[0m\u001b[0m\n\u001b[1;32m     48\u001b[0m \u001b[0;34m\u001b[0m\u001b[0m\n",
      "\u001b[0;31mFileNotFoundError\u001b[0m: [Errno 2] No such file or directory: '400_320_102400.jpg' -> '今泉 佑唯_1.png'"
     ]
    }
   ],
   "source": [
    "\n",
    "Menber = ('今泉 佑唯')\n",
    "make_folder_for_save(Menber)\n",
    "GetPicture(blog_list[Menber_name],Menber_name)"
   ]
  },
  {
   "cell_type": "code",
   "execution_count": 271,
   "metadata": {
    "scrolled": true
   },
   "outputs": [
    {
     "name": "stdout",
     "output_type": "stream",
     "text": [
      "http://cdn.keyakizaka46.com/files/14/images/blog/default.jpg\n",
      "['http:', '', 'cdn.keyakizaka46.com', 'files', '14', 'images', 'blog', 'default.jpg']\n",
      "/Users/nagatomo/Desktop/src/keyaki/GetBrogPicture/default.jpg\n"
     ]
    },
    {
     "ename": "FileNotFoundError",
     "evalue": "[Errno 2] No such file or directory: 'default.jpg' -> 'aiueo_志田 愛佳.png'",
     "output_type": "error",
     "traceback": [
      "\u001b[0;31m---------------------------------------------------------------------------\u001b[0m",
      "\u001b[0;31mFileNotFoundError\u001b[0m                         Traceback (most recent call last)",
      "\u001b[0;32m<ipython-input-271-650ed816f783>\u001b[0m in \u001b[0;36m<module>\u001b[0;34m()\u001b[0m\n\u001b[1;32m      9\u001b[0m \u001b[0;32mwith\u001b[0m \u001b[0mopen\u001b[0m\u001b[0;34m(\u001b[0m\u001b[0mstr\u001b[0m\u001b[0;34m(\u001b[0m\u001b[0mpath\u001b[0m\u001b[0;34m)\u001b[0m \u001b[0;34m+\u001b[0m \u001b[0;34m'/'\u001b[0m \u001b[0;34m+\u001b[0m\u001b[0;34m'img'\u001b[0m \u001b[0;34m+\u001b[0m \u001b[0;34m'/'\u001b[0m\u001b[0;34m+\u001b[0m \u001b[0mu\u001b[0m\u001b[0;34m.\u001b[0m\u001b[0msplit\u001b[0m\u001b[0;34m(\u001b[0m\u001b[0;34m'/'\u001b[0m\u001b[0;34m)\u001b[0m\u001b[0;34m[\u001b[0m\u001b[0;36m0\u001b[0m\u001b[0;34m]\u001b[0m\u001b[0;34m,\u001b[0m \u001b[0;34m'wb'\u001b[0m\u001b[0;34m)\u001b[0m \u001b[0;32mas\u001b[0m \u001b[0mf\u001b[0m\u001b[0;34m:\u001b[0m\u001b[0;31m# imgフォルダに格納\u001b[0m\u001b[0;34m\u001b[0m\u001b[0m\n\u001b[1;32m     10\u001b[0m     \u001b[0mf\u001b[0m\u001b[0;34m.\u001b[0m\u001b[0mwrite\u001b[0m\u001b[0;34m(\u001b[0m\u001b[0mre\u001b[0m\u001b[0;34m.\u001b[0m\u001b[0mcontent\u001b[0m\u001b[0;34m)\u001b[0m \u001b[0;31m# .contentにて画像データとして書き込む\u001b[0m\u001b[0;34m\u001b[0m\u001b[0m\n\u001b[0;32m---> 11\u001b[0;31m     \u001b[0mos\u001b[0m\u001b[0;34m.\u001b[0m\u001b[0mrename\u001b[0m\u001b[0;34m(\u001b[0m\u001b[0mu\u001b[0m\u001b[0;34m.\u001b[0m\u001b[0msplit\u001b[0m\u001b[0;34m(\u001b[0m\u001b[0;34m'/'\u001b[0m\u001b[0;34m)\u001b[0m\u001b[0;34m[\u001b[0m\u001b[0;34m-\u001b[0m\u001b[0;36m1\u001b[0m\u001b[0;34m]\u001b[0m \u001b[0;34m,\u001b[0m\u001b[0;34m'aiueo'\u001b[0m\u001b[0;34m+\u001b[0m\u001b[0;34m'_'\u001b[0m\u001b[0;34m+\u001b[0m\u001b[0mstr\u001b[0m\u001b[0;34m(\u001b[0m\u001b[0mi\u001b[0m\u001b[0;34m)\u001b[0m\u001b[0;34m+\u001b[0m\u001b[0;34m'.png'\u001b[0m \u001b[0;34m)\u001b[0m\u001b[0;34m\u001b[0m\u001b[0m\n\u001b[0m\u001b[1;32m     12\u001b[0m \u001b[0;34m\u001b[0m\u001b[0m\n\u001b[1;32m     13\u001b[0m     \u001b[0mf\u001b[0m\u001b[0;34m.\u001b[0m\u001b[0mclose\u001b[0m\u001b[0;34m\u001b[0m\u001b[0m\n",
      "\u001b[0;31mFileNotFoundError\u001b[0m: [Errno 2] No such file or directory: 'default.jpg' -> 'aiueo_志田 愛佳.png'"
     ]
    }
   ],
   "source": [
    "u ='http://cdn.keyakizaka46.com/files/14/images/blog/default.jpg'\n",
    "print(u)\n",
    "re = requests.get(u)\n",
    "print(u.split('/'))\n",
    "# print(re.content)\n",
    "path = os.getcwd()\n",
    "\n",
    "print(str(path)+ '/' +u.split('/')[-1])\n",
    "os.mkdir('img')\n",
    "with open(str(path) + '/' +'img' + '/'+ u.split('/')[0], 'wb') as f:# imgフォルダに格納\n",
    "    f.write(re.content) # .contentにて画像データとして書き込む\n",
    "    os.rename(u.split('/')[-1] ,'aiueo'+'.png' ) \n",
    "\n",
    "#         os.rename(target.split('/')[-1] ,str(Menber)+'_'+str(i)+'.png' ) \n",
    "\n"
   ]
  },
  {
   "cell_type": "code",
   "execution_count": 122,
   "metadata": {
    "scrolled": true
   },
   "outputs": [
    {
     "name": "stdout",
     "output_type": "stream",
     "text": [
      "Latest blog number :18744\n",
      "Latest blog number :1001\n",
      "list1001.txt\n",
      "Latest blog number :2001\n",
      "list2001.txt\n",
      "Latest blog number :3001\n",
      "list3001.txt\n",
      "Latest blog number :4000\n",
      "list4000.txt\n",
      "Latest blog number :5001\n",
      "list5001.txt\n",
      "Latest blog number :6001\n",
      "list6001.txt\n",
      "Latest blog number :7001\n",
      "list7001.txt\n",
      "Latest blog number :8001\n",
      "list8001.txt\n",
      "Latest blog number :9001\n",
      "list9001.txt\n",
      "Latest blog number :10001\n",
      "list10001.txt\n",
      "Latest blog number :11001\n",
      "list11001.txt\n",
      "Latest blog number :12001\n",
      "list12001.txt\n",
      "Latest blog number :13001\n",
      "list13001.txt\n",
      "Latest blog number :14001\n",
      "list14001.txt\n",
      "Latest blog number :15001\n",
      "list15001.txt\n",
      "Latest blog number :16000\n",
      "list16000.txt\n",
      "Latest blog number :16001\n",
      "list16001.txt\n",
      "Latest blog number :17001\n",
      "list17001.txt\n",
      "Latest blog number :18001\n",
      "list18001.txt\n",
      "list18743.txt\n",
      "elapsed_time:21148.3001639843[sec]\n"
     ]
    }
   ],
   "source": [
    "# Main\n",
    "\n",
    "start = time.time()\n",
    "Menber_kanji,Menber_hiragana,Menber_name = set_Name_of_the_Menber()\n",
    "blog_list,latest_blog_num = get_Number_of_Blog(Menber_kanji,Menber_hiragana)\n",
    "make_txt_file(blog_list,latest_blog_num)\n",
    "\n",
    "GetPicture(blog_list[Menber_name],Menber_name)\n",
    "# get_Picture_from_Blog(blog_num)\n",
    "# folder_directory=make_Folder_for_save_Picture(name)\n",
    "\n",
    "elapsed_time = time.time() - start\n",
    "print (\"elapsed_time:{0}\".format(elapsed_time) + \"[sec]\")\n",
    "\n"
   ]
  },
  {
   "cell_type": "code",
   "execution_count": null,
   "metadata": {
    "collapsed": true
   },
   "outputs": [],
   "source": []
  }
 ],
 "metadata": {
  "kernelspec": {
   "display_name": "Python 3",
   "language": "python",
   "name": "python3"
  },
  "language_info": {
   "codemirror_mode": {
    "name": "ipython",
    "version": 3
   },
   "file_extension": ".py",
   "mimetype": "text/x-python",
   "name": "python",
   "nbconvert_exporter": "python",
   "pygments_lexer": "ipython3",
   "version": "3.6.3"
  }
 },
 "nbformat": 4,
 "nbformat_minor": 2
}
